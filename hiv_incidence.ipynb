{
 "cells": [
  {
   "cell_type": "markdown",
   "metadata": {},
   "source": [
    "## HIV Incidence Case Study \n"
   ]
  },
  {
   "cell_type": "code",
   "execution_count": 2,
   "metadata": {},
   "outputs": [],
   "source": [
    "import numpy as np\n",
    "import pandas as pd\n",
    "import scipy.stats as stats\n",
    "\n",
    "\n",
    "from sklearn.linear_model import LinearRegression\n",
    "from sklearn.model_selection import train_test_split\n",
    "from sklearn.metrics import mean_squared_error\n",
    "from sklearn.pipeline import Pipeline\n",
    "from sklearn.preprocessing import StandardScaler\n",
    "from sklearn.linear_model import Lasso\n",
    "from sklearn.linear_model import Ridge\n",
    "\n",
    "import statsmodels.api as sm\n",
    "\n",
    "import matplotlib.pyplot as plt\n",
    "plt.style.use('ggplot')\n",
    "\n",
    "%matplotlib inline\n"
   ]
  },
  {
   "cell_type": "code",
   "execution_count": 6,
   "metadata": {},
   "outputs": [],
   "source": [
    "main = pd.read_csv('forecast_HIV_infections/data/main_data.csv', index_col=0)"
   ]
  },
  {
   "cell_type": "code",
   "execution_count": 30,
   "metadata": {},
   "outputs": [],
   "source": [
    "main['mme_percap'].fillna(main['mme_percap'].sum(), inplace=True)"
   ]
  },
  {
   "cell_type": "code",
   "execution_count": 32,
   "metadata": {},
   "outputs": [],
   "source": [
    "main['partD30dayrxrate'].fillna(main['partD30dayrxrate'].sum(), inplace=True)"
   ]
  },
  {
   "cell_type": "code",
   "execution_count": null,
   "metadata": {},
   "outputs": [],
   "source": [
    "drugdep              3139 non-null float64\n",
    "pctunmetneed         3139 non-null float64\n",
    "nonmedpain  "
   ]
  },
  {
   "cell_type": "code",
   "execution_count": 34,
   "metadata": {},
   "outputs": [],
   "source": [
    "main['drugdep'].fillna(main['drugdep'].sum(), inplace=True)"
   ]
  },
  {
   "cell_type": "code",
   "execution_count": 36,
   "metadata": {},
   "outputs": [],
   "source": [
    "main['pctunmetneed'].fillna(main['pctunmetneed'].sum(), inplace=True)"
   ]
  },
  {
   "cell_type": "code",
   "execution_count": 37,
   "metadata": {},
   "outputs": [],
   "source": [
    "main['nonmedpain'].fillna(main['nonmedpain'].sum(), inplace=True)"
   ]
  },
  {
   "cell_type": "code",
   "execution_count": 38,
   "metadata": {},
   "outputs": [
    {
     "name": "stdout",
     "output_type": "stream",
     "text": [
      "<class 'pandas.core.frame.DataFrame'>\n",
      "Int64Index: 3140 entries, 0 to 3139\n",
      "Data columns (total 39 columns):\n",
      "county_code          3140 non-null int64\n",
      "COUNTY               3140 non-null object\n",
      "STATEABBREVIATION    3140 non-null object\n",
      "YEAR                 3140 non-null int64\n",
      "AMAT_fac             3140 non-null float64\n",
      "HIVdiagnoses         3140 non-null float64\n",
      "HIVincidence         3140 non-null float64\n",
      "HIVprevalence        3140 non-null float64\n",
      "MH_fac               3140 non-null float64\n",
      "Med_AMAT_fac         3140 non-null float64\n",
      "Med_MH_fac           3140 non-null float64\n",
      "Med_SA_fac           3140 non-null float64\n",
      "Med_SMAT_fac         3140 non-null float64\n",
      "Med_TMAT_fac         3140 non-null float64\n",
      "PLHIV                3140 non-null float64\n",
      "Population           3140 non-null float64\n",
      "SA_fac               3140 non-null float64\n",
      "SMAT_fac             3140 non-null float64\n",
      "TMAT_fac             3140 non-null float64\n",
      "drugdeathrate        3140 non-null float64\n",
      "drugdeathrate_est    3140 non-null float64\n",
      "drugdeaths           3140 non-null float64\n",
      "mme_percap           3140 non-null float64\n",
      "partD30dayrxrate     3140 non-null float64\n",
      "pctunins             3140 non-null float64\n",
      "num_SSPs             3140 non-null float64\n",
      "bup_phys             3140 non-null float64\n",
      "drugdep              3140 non-null float64\n",
      "pctunmetneed         3140 non-null float64\n",
      "nonmedpain           3140 non-null float64\n",
      "ADULTMEN             3140 non-null int64\n",
      "MSM12MTH             3140 non-null int64\n",
      "MSM5YEAR             3140 non-null int64\n",
      "%msm12month          3140 non-null float64\n",
      "%msm5yr              3140 non-null float64\n",
      "unemployment_rate    3140 non-null float64\n",
      "poverty_rate         3140 non-null float64\n",
      "household_income     3140 non-null int64\n",
      "percent_uninsured    3140 non-null float64\n",
      "dtypes: float64(31), int64(6), object(2)\n",
      "memory usage: 1.0+ MB\n"
     ]
    }
   ],
   "source": [
    "main.info()"
   ]
  },
  {
   "cell_type": "code",
   "execution_count": null,
   "metadata": {},
   "outputs": [],
   "source": []
  },
  {
   "cell_type": "code",
   "execution_count": null,
   "metadata": {},
   "outputs": [],
   "source": []
  },
  {
   "cell_type": "code",
   "execution_count": 82,
   "metadata": {},
   "outputs": [],
   "source": [
    "y = np.array(main['HIVincidence'])"
   ]
  },
  {
   "cell_type": "code",
   "execution_count": 90,
   "metadata": {},
   "outputs": [],
   "source": [
    "X = np.array(main.drop(['HIVincidence','COUNTY','STATEABBREVIATION', 'HIVdiagnoses'], axis=1))"
   ]
  },
  {
   "cell_type": "code",
   "execution_count": 91,
   "metadata": {},
   "outputs": [],
   "source": [
    "model = sm.OLS(y, X).fit()"
   ]
  },
  {
   "cell_type": "code",
   "execution_count": 92,
   "metadata": {},
   "outputs": [
    {
     "data": {
      "text/html": [
       "<table class=\"simpletable\">\n",
       "<caption>OLS Regression Results</caption>\n",
       "<tr>\n",
       "  <th>Dep. Variable:</th>            <td>y</td>        <th>  R-squared:         </th> <td>   0.196</td> \n",
       "</tr>\n",
       "<tr>\n",
       "  <th>Model:</th>                   <td>OLS</td>       <th>  Adj. R-squared:    </th> <td>   0.187</td> \n",
       "</tr>\n",
       "<tr>\n",
       "  <th>Method:</th>             <td>Least Squares</td>  <th>  F-statistic:       </th> <td>   22.20</td> \n",
       "</tr>\n",
       "<tr>\n",
       "  <th>Date:</th>             <td>Fri, 17 Apr 2020</td> <th>  Prob (F-statistic):</th> <td>5.74e-121</td>\n",
       "</tr>\n",
       "<tr>\n",
       "  <th>Time:</th>                 <td>12:13:16</td>     <th>  Log-Likelihood:    </th> <td> -12930.</td> \n",
       "</tr>\n",
       "<tr>\n",
       "  <th>No. Observations:</th>      <td>  3140</td>      <th>  AIC:               </th> <td>2.593e+04</td>\n",
       "</tr>\n",
       "<tr>\n",
       "  <th>Df Residuals:</th>          <td>  3105</td>      <th>  BIC:               </th> <td>2.614e+04</td>\n",
       "</tr>\n",
       "<tr>\n",
       "  <th>Df Model:</th>              <td>    34</td>      <th>                     </th>     <td> </td>    \n",
       "</tr>\n",
       "<tr>\n",
       "  <th>Covariance Type:</th>      <td>nonrobust</td>    <th>                     </th>     <td> </td>    \n",
       "</tr>\n",
       "</table>\n",
       "<table class=\"simpletable\">\n",
       "<tr>\n",
       "    <td></td>       <th>coef</th>     <th>std err</th>      <th>t</th>      <th>P>|t|</th>  <th>[0.025</th>    <th>0.975]</th>  \n",
       "</tr>\n",
       "<tr>\n",
       "  <th>x1</th>    <td>-7.924e-06</td> <td> 1.86e-05</td> <td>   -0.426</td> <td> 0.670</td> <td>-4.44e-05</td> <td> 2.86e-05</td>\n",
       "</tr>\n",
       "<tr>\n",
       "  <th>const</th> <td>   -0.0014</td> <td>    0.001</td> <td>   -2.285</td> <td> 0.022</td> <td>   -0.003</td> <td>   -0.000</td>\n",
       "</tr>\n",
       "<tr>\n",
       "  <th>x2</th>    <td>    1.0392</td> <td>    1.845</td> <td>    0.563</td> <td> 0.573</td> <td>   -2.578</td> <td>    4.657</td>\n",
       "</tr>\n",
       "<tr>\n",
       "  <th>x3</th>    <td>    0.0350</td> <td>    0.002</td> <td>   18.403</td> <td> 0.000</td> <td>    0.031</td> <td>    0.039</td>\n",
       "</tr>\n",
       "<tr>\n",
       "  <th>x4</th>    <td>   -0.0038</td> <td>    0.371</td> <td>   -0.010</td> <td> 0.992</td> <td>   -0.732</td> <td>    0.724</td>\n",
       "</tr>\n",
       "<tr>\n",
       "  <th>x5</th>    <td>   -1.2103</td> <td>    2.085</td> <td>   -0.580</td> <td> 0.562</td> <td>   -5.298</td> <td>    2.878</td>\n",
       "</tr>\n",
       "<tr>\n",
       "  <th>x6</th>    <td>    0.0068</td> <td>    0.406</td> <td>    0.017</td> <td> 0.987</td> <td>   -0.789</td> <td>    0.803</td>\n",
       "</tr>\n",
       "<tr>\n",
       "  <th>x7</th>    <td>    0.1683</td> <td>    0.235</td> <td>    0.716</td> <td> 0.474</td> <td>   -0.292</td> <td>    0.629</td>\n",
       "</tr>\n",
       "<tr>\n",
       "  <th>x8</th>    <td>   -0.8199</td> <td>    0.712</td> <td>   -1.152</td> <td> 0.250</td> <td>   -2.216</td> <td>    0.576</td>\n",
       "</tr>\n",
       "<tr>\n",
       "  <th>x9</th>    <td>    0.1891</td> <td>    1.035</td> <td>    0.183</td> <td> 0.855</td> <td>   -1.840</td> <td>    2.218</td>\n",
       "</tr>\n",
       "<tr>\n",
       "  <th>x10</th>   <td>   -0.0003</td> <td>    0.000</td> <td>   -0.611</td> <td> 0.541</td> <td>   -0.001</td> <td>    0.001</td>\n",
       "</tr>\n",
       "<tr>\n",
       "  <th>x11</th>   <td> 1.506e-05</td> <td> 2.49e-05</td> <td>    0.606</td> <td> 0.545</td> <td>-3.37e-05</td> <td> 6.38e-05</td>\n",
       "</tr>\n",
       "<tr>\n",
       "  <th>x12</th>   <td>   -0.1009</td> <td>    0.134</td> <td>   -0.751</td> <td> 0.453</td> <td>   -0.364</td> <td>    0.162</td>\n",
       "</tr>\n",
       "<tr>\n",
       "  <th>x13</th>   <td>    0.3882</td> <td>    0.598</td> <td>    0.650</td> <td> 0.516</td> <td>   -0.783</td> <td>    1.560</td>\n",
       "</tr>\n",
       "<tr>\n",
       "  <th>x14</th>   <td>   -0.2931</td> <td>    0.817</td> <td>   -0.359</td> <td> 0.720</td> <td>   -1.895</td> <td>    1.309</td>\n",
       "</tr>\n",
       "<tr>\n",
       "  <th>x15</th>   <td>    0.0041</td> <td>    0.036</td> <td>    0.116</td> <td> 0.908</td> <td>   -0.066</td> <td>    0.074</td>\n",
       "</tr>\n",
       "<tr>\n",
       "  <th>x16</th>   <td>    0.0462</td> <td>    0.046</td> <td>    1.002</td> <td> 0.316</td> <td>   -0.044</td> <td>    0.136</td>\n",
       "</tr>\n",
       "<tr>\n",
       "  <th>x17</th>   <td>   -0.0126</td> <td>    0.018</td> <td>   -0.715</td> <td> 0.475</td> <td>   -0.047</td> <td>    0.022</td>\n",
       "</tr>\n",
       "<tr>\n",
       "  <th>x18</th>   <td> 2.397e-07</td> <td> 6.66e-07</td> <td>    0.360</td> <td> 0.719</td> <td>-1.07e-06</td> <td> 1.55e-06</td>\n",
       "</tr>\n",
       "<tr>\n",
       "  <th>x19</th>   <td>-7.689e-05</td> <td>    0.000</td> <td>   -0.216</td> <td> 0.829</td> <td>   -0.001</td> <td>    0.001</td>\n",
       "</tr>\n",
       "<tr>\n",
       "  <th>x20</th>   <td>   -0.1692</td> <td>    0.237</td> <td>   -0.713</td> <td> 0.476</td> <td>   -0.635</td> <td>    0.296</td>\n",
       "</tr>\n",
       "<tr>\n",
       "  <th>x21</th>   <td>    1.5188</td> <td>    0.832</td> <td>    1.825</td> <td> 0.068</td> <td>   -0.113</td> <td>    3.150</td>\n",
       "</tr>\n",
       "<tr>\n",
       "  <th>x22</th>   <td>   -0.0030</td> <td>    0.033</td> <td>   -0.090</td> <td> 0.928</td> <td>   -0.067</td> <td>    0.061</td>\n",
       "</tr>\n",
       "<tr>\n",
       "  <th>x23</th>   <td>   -1.3144</td> <td>    0.919</td> <td>   -1.430</td> <td> 0.153</td> <td>   -3.116</td> <td>    0.488</td>\n",
       "</tr>\n",
       "<tr>\n",
       "  <th>x24</th>   <td>    0.0212</td> <td>    0.026</td> <td>    0.807</td> <td> 0.420</td> <td>   -0.030</td> <td>    0.073</td>\n",
       "</tr>\n",
       "<tr>\n",
       "  <th>x25</th>   <td>    0.3501</td> <td>    0.562</td> <td>    0.623</td> <td> 0.533</td> <td>   -0.751</td> <td>    1.452</td>\n",
       "</tr>\n",
       "<tr>\n",
       "  <th>x26</th>   <td>-4.257e-05</td> <td> 7.37e-05</td> <td>   -0.577</td> <td> 0.564</td> <td>   -0.000</td> <td>    0.000</td>\n",
       "</tr>\n",
       "<tr>\n",
       "  <th>x27</th>   <td>    1.2185</td> <td>    0.859</td> <td>    1.419</td> <td> 0.156</td> <td>   -0.465</td> <td>    2.902</td>\n",
       "</tr>\n",
       "<tr>\n",
       "  <th>x28</th>   <td>   -0.7887</td> <td>    0.555</td> <td>   -1.420</td> <td> 0.156</td> <td>   -1.878</td> <td>    0.300</td>\n",
       "</tr>\n",
       "<tr>\n",
       "  <th>x29</th>   <td>    6.9627</td> <td>   16.869</td> <td>    0.413</td> <td> 0.680</td> <td>  -26.113</td> <td>   40.038</td>\n",
       "</tr>\n",
       "<tr>\n",
       "  <th>x30</th>   <td>   -3.8512</td> <td>   10.911</td> <td>   -0.353</td> <td> 0.724</td> <td>  -25.245</td> <td>   17.543</td>\n",
       "</tr>\n",
       "<tr>\n",
       "  <th>x31</th>   <td>   -0.0155</td> <td>    0.102</td> <td>   -0.152</td> <td> 0.879</td> <td>   -0.215</td> <td>    0.184</td>\n",
       "</tr>\n",
       "<tr>\n",
       "  <th>x32</th>   <td>   -0.0361</td> <td>    0.061</td> <td>   -0.587</td> <td> 0.557</td> <td>   -0.157</td> <td>    0.084</td>\n",
       "</tr>\n",
       "<tr>\n",
       "  <th>x33</th>   <td> 4.901e-05</td> <td>  4.3e-05</td> <td>    1.139</td> <td> 0.255</td> <td>-3.54e-05</td> <td>    0.000</td>\n",
       "</tr>\n",
       "<tr>\n",
       "  <th>x34</th>   <td>    0.1695</td> <td>    0.234</td> <td>    0.723</td> <td> 0.470</td> <td>   -0.290</td> <td>    0.629</td>\n",
       "</tr>\n",
       "</table>\n",
       "<table class=\"simpletable\">\n",
       "<tr>\n",
       "  <th>Omnibus:</th>       <td>9169.883</td> <th>  Durbin-Watson:     </th>   <td>   1.982</td>   \n",
       "</tr>\n",
       "<tr>\n",
       "  <th>Prob(Omnibus):</th>  <td> 0.000</td>  <th>  Jarque-Bera (JB):  </th> <td>507994238.913</td>\n",
       "</tr>\n",
       "<tr>\n",
       "  <th>Skew:</th>           <td>39.678</td>  <th>  Prob(JB):          </th>   <td>    0.00</td>   \n",
       "</tr>\n",
       "<tr>\n",
       "  <th>Kurtosis:</th>      <td>1971.873</td> <th>  Cond. No.          </th>   <td>3.74e+07</td>   \n",
       "</tr>\n",
       "</table><br/><br/>Warnings:<br/>[1] Standard Errors assume that the covariance matrix of the errors is correctly specified.<br/>[2] The condition number is large, 3.74e+07. This might indicate that there are<br/>strong multicollinearity or other numerical problems."
      ],
      "text/plain": [
       "<class 'statsmodels.iolib.summary.Summary'>\n",
       "\"\"\"\n",
       "                            OLS Regression Results                            \n",
       "==============================================================================\n",
       "Dep. Variable:                      y   R-squared:                       0.196\n",
       "Model:                            OLS   Adj. R-squared:                  0.187\n",
       "Method:                 Least Squares   F-statistic:                     22.20\n",
       "Date:                Fri, 17 Apr 2020   Prob (F-statistic):          5.74e-121\n",
       "Time:                        12:13:16   Log-Likelihood:                -12930.\n",
       "No. Observations:                3140   AIC:                         2.593e+04\n",
       "Df Residuals:                    3105   BIC:                         2.614e+04\n",
       "Df Model:                          34                                         \n",
       "Covariance Type:            nonrobust                                         \n",
       "==============================================================================\n",
       "                 coef    std err          t      P>|t|      [0.025      0.975]\n",
       "------------------------------------------------------------------------------\n",
       "x1         -7.924e-06   1.86e-05     -0.426      0.670   -4.44e-05    2.86e-05\n",
       "const         -0.0014      0.001     -2.285      0.022      -0.003      -0.000\n",
       "x2             1.0392      1.845      0.563      0.573      -2.578       4.657\n",
       "x3             0.0350      0.002     18.403      0.000       0.031       0.039\n",
       "x4            -0.0038      0.371     -0.010      0.992      -0.732       0.724\n",
       "x5            -1.2103      2.085     -0.580      0.562      -5.298       2.878\n",
       "x6             0.0068      0.406      0.017      0.987      -0.789       0.803\n",
       "x7             0.1683      0.235      0.716      0.474      -0.292       0.629\n",
       "x8            -0.8199      0.712     -1.152      0.250      -2.216       0.576\n",
       "x9             0.1891      1.035      0.183      0.855      -1.840       2.218\n",
       "x10           -0.0003      0.000     -0.611      0.541      -0.001       0.001\n",
       "x11         1.506e-05   2.49e-05      0.606      0.545   -3.37e-05    6.38e-05\n",
       "x12           -0.1009      0.134     -0.751      0.453      -0.364       0.162\n",
       "x13            0.3882      0.598      0.650      0.516      -0.783       1.560\n",
       "x14           -0.2931      0.817     -0.359      0.720      -1.895       1.309\n",
       "x15            0.0041      0.036      0.116      0.908      -0.066       0.074\n",
       "x16            0.0462      0.046      1.002      0.316      -0.044       0.136\n",
       "x17           -0.0126      0.018     -0.715      0.475      -0.047       0.022\n",
       "x18         2.397e-07   6.66e-07      0.360      0.719   -1.07e-06    1.55e-06\n",
       "x19        -7.689e-05      0.000     -0.216      0.829      -0.001       0.001\n",
       "x20           -0.1692      0.237     -0.713      0.476      -0.635       0.296\n",
       "x21            1.5188      0.832      1.825      0.068      -0.113       3.150\n",
       "x22           -0.0030      0.033     -0.090      0.928      -0.067       0.061\n",
       "x23           -1.3144      0.919     -1.430      0.153      -3.116       0.488\n",
       "x24            0.0212      0.026      0.807      0.420      -0.030       0.073\n",
       "x25            0.3501      0.562      0.623      0.533      -0.751       1.452\n",
       "x26        -4.257e-05   7.37e-05     -0.577      0.564      -0.000       0.000\n",
       "x27            1.2185      0.859      1.419      0.156      -0.465       2.902\n",
       "x28           -0.7887      0.555     -1.420      0.156      -1.878       0.300\n",
       "x29            6.9627     16.869      0.413      0.680     -26.113      40.038\n",
       "x30           -3.8512     10.911     -0.353      0.724     -25.245      17.543\n",
       "x31           -0.0155      0.102     -0.152      0.879      -0.215       0.184\n",
       "x32           -0.0361      0.061     -0.587      0.557      -0.157       0.084\n",
       "x33         4.901e-05    4.3e-05      1.139      0.255   -3.54e-05       0.000\n",
       "x34            0.1695      0.234      0.723      0.470      -0.290       0.629\n",
       "==============================================================================\n",
       "Omnibus:                     9169.883   Durbin-Watson:                   1.982\n",
       "Prob(Omnibus):                  0.000   Jarque-Bera (JB):        507994238.913\n",
       "Skew:                          39.678   Prob(JB):                         0.00\n",
       "Kurtosis:                    1971.873   Cond. No.                     3.74e+07\n",
       "==============================================================================\n",
       "\n",
       "Warnings:\n",
       "[1] Standard Errors assume that the covariance matrix of the errors is correctly specified.\n",
       "[2] The condition number is large, 3.74e+07. This might indicate that there are\n",
       "strong multicollinearity or other numerical problems.\n",
       "\"\"\""
      ]
     },
     "execution_count": 92,
     "metadata": {},
     "output_type": "execute_result"
    }
   ],
   "source": [
    "model.summary()"
   ]
  },
  {
   "cell_type": "code",
   "execution_count": 93,
   "metadata": {},
   "outputs": [],
   "source": [
    "pval = model.pvalues"
   ]
  },
  {
   "cell_type": "code",
   "execution_count": 94,
   "metadata": {},
   "outputs": [],
   "source": [
    "cols = main.columns.drop(['HIVincidence','COUNTY','STATEABBREVIATION', 'HIVdiagnoses'])"
   ]
  },
  {
   "cell_type": "code",
   "execution_count": 95,
   "metadata": {},
   "outputs": [
    {
     "data": {
      "text/plain": [
       "Index(['county_code', 'YEAR', 'AMAT_fac', 'HIVprevalence', 'MH_fac',\n",
       "       'Med_AMAT_fac', 'Med_MH_fac', 'Med_SA_fac', 'Med_SMAT_fac',\n",
       "       'Med_TMAT_fac', 'PLHIV', 'Population', 'SA_fac', 'SMAT_fac', 'TMAT_fac',\n",
       "       'drugdeathrate', 'drugdeathrate_est', 'drugdeaths', 'mme_percap',\n",
       "       'partD30dayrxrate', 'pctunins', 'num_SSPs', 'bup_phys', 'drugdep',\n",
       "       'pctunmetneed', 'nonmedpain', 'ADULTMEN', 'MSM12MTH', 'MSM5YEAR',\n",
       "       '%msm12month', '%msm5yr', 'unemployment_rate', 'poverty_rate',\n",
       "       'household_income', 'percent_uninsured'],\n",
       "      dtype='object')"
      ]
     },
     "execution_count": 95,
     "metadata": {},
     "output_type": "execute_result"
    }
   ],
   "source": [
    "cols"
   ]
  },
  {
   "cell_type": "code",
   "execution_count": 96,
   "metadata": {},
   "outputs": [],
   "source": [
    "pval_df = pd.DataFrame(pval, index=cols, columns=['pval'])"
   ]
  },
  {
   "cell_type": "code",
   "execution_count": 102,
   "metadata": {},
   "outputs": [],
   "source": [
    "new = pval_df[pval_df['pval'] <= .25]"
   ]
  },
  {
   "cell_type": "code",
   "execution_count": 103,
   "metadata": {},
   "outputs": [],
   "source": [
    "sig_columns = list(new.index)"
   ]
  },
  {
   "cell_type": "code",
   "execution_count": 104,
   "metadata": {},
   "outputs": [],
   "source": [
    "X2 = main[sig_columns]"
   ]
  },
  {
   "cell_type": "code",
   "execution_count": 105,
   "metadata": {},
   "outputs": [],
   "source": [
    "model = sm.OLS(y, X2).fit()"
   ]
  },
  {
   "cell_type": "code",
   "execution_count": 106,
   "metadata": {},
   "outputs": [
    {
     "data": {
      "text/html": [
       "<table class=\"simpletable\">\n",
       "<caption>OLS Regression Results</caption>\n",
       "<tr>\n",
       "  <th>Dep. Variable:</th>            <td>y</td>        <th>  R-squared:         </th> <td>   0.182</td> \n",
       "</tr>\n",
       "<tr>\n",
       "  <th>Model:</th>                   <td>OLS</td>       <th>  Adj. R-squared:    </th> <td>   0.180</td> \n",
       "</tr>\n",
       "<tr>\n",
       "  <th>Method:</th>             <td>Least Squares</td>  <th>  F-statistic:       </th> <td>   115.9</td> \n",
       "</tr>\n",
       "<tr>\n",
       "  <th>Date:</th>             <td>Fri, 17 Apr 2020</td> <th>  Prob (F-statistic):</th> <td>1.55e-132</td>\n",
       "</tr>\n",
       "<tr>\n",
       "  <th>Time:</th>                 <td>12:14:26</td>     <th>  Log-Likelihood:    </th> <td> -12957.</td> \n",
       "</tr>\n",
       "<tr>\n",
       "  <th>No. Observations:</th>      <td>  3140</td>      <th>  AIC:               </th> <td>2.593e+04</td>\n",
       "</tr>\n",
       "<tr>\n",
       "  <th>Df Residuals:</th>          <td>  3133</td>      <th>  BIC:               </th> <td>2.597e+04</td>\n",
       "</tr>\n",
       "<tr>\n",
       "  <th>Df Model:</th>              <td>     6</td>      <th>                     </th>     <td> </td>    \n",
       "</tr>\n",
       "<tr>\n",
       "  <th>Covariance Type:</th>      <td>nonrobust</td>    <th>                     </th>     <td> </td>    \n",
       "</tr>\n",
       "</table>\n",
       "<table class=\"simpletable\">\n",
       "<tr>\n",
       "        <td></td>           <th>coef</th>     <th>std err</th>      <th>t</th>      <th>P>|t|</th>  <th>[0.025</th>    <th>0.975]</th>  \n",
       "</tr>\n",
       "<tr>\n",
       "  <th>YEAR</th>          <td>   -0.0005</td> <td>    0.000</td> <td>   -3.107</td> <td> 0.002</td> <td>   -0.001</td> <td>   -0.000</td>\n",
       "</tr>\n",
       "<tr>\n",
       "  <th>HIVprevalence</th> <td>    0.0348</td> <td>    0.001</td> <td>   23.753</td> <td> 0.000</td> <td>    0.032</td> <td>    0.038</td>\n",
       "</tr>\n",
       "<tr>\n",
       "  <th>Med_SMAT_fac</th>  <td>   -0.2906</td> <td>    0.118</td> <td>   -2.454</td> <td> 0.014</td> <td>   -0.523</td> <td>   -0.058</td>\n",
       "</tr>\n",
       "<tr>\n",
       "  <th>num_SSPs</th>      <td>    1.1995</td> <td>    0.789</td> <td>    1.520</td> <td> 0.129</td> <td>   -0.348</td> <td>    2.747</td>\n",
       "</tr>\n",
       "<tr>\n",
       "  <th>drugdep</th>       <td>    0.0001</td> <td>    0.002</td> <td>    0.066</td> <td> 0.947</td> <td>   -0.004</td> <td>    0.004</td>\n",
       "</tr>\n",
       "<tr>\n",
       "  <th>MSM12MTH</th>      <td>    1.4238</td> <td>    0.768</td> <td>    1.853</td> <td> 0.064</td> <td>   -0.083</td> <td>    2.930</td>\n",
       "</tr>\n",
       "<tr>\n",
       "  <th>MSM5YEAR</th>      <td>   -0.9209</td> <td>    0.497</td> <td>   -1.853</td> <td> 0.064</td> <td>   -1.896</td> <td>    0.054</td>\n",
       "</tr>\n",
       "</table>\n",
       "<table class=\"simpletable\">\n",
       "<tr>\n",
       "  <th>Omnibus:</th>       <td>9120.856</td> <th>  Durbin-Watson:     </th>   <td>   1.981</td>   \n",
       "</tr>\n",
       "<tr>\n",
       "  <th>Prob(Omnibus):</th>  <td> 0.000</td>  <th>  Jarque-Bera (JB):  </th> <td>489521741.614</td>\n",
       "</tr>\n",
       "<tr>\n",
       "  <th>Skew:</th>           <td>39.105</td>  <th>  Prob(JB):          </th>   <td>    0.00</td>   \n",
       "</tr>\n",
       "<tr>\n",
       "  <th>Kurtosis:</th>      <td>1935.731</td> <th>  Cond. No.          </th>   <td>3.11e+04</td>   \n",
       "</tr>\n",
       "</table><br/><br/>Warnings:<br/>[1] Standard Errors assume that the covariance matrix of the errors is correctly specified.<br/>[2] The condition number is large, 3.11e+04. This might indicate that there are<br/>strong multicollinearity or other numerical problems."
      ],
      "text/plain": [
       "<class 'statsmodels.iolib.summary.Summary'>\n",
       "\"\"\"\n",
       "                            OLS Regression Results                            \n",
       "==============================================================================\n",
       "Dep. Variable:                      y   R-squared:                       0.182\n",
       "Model:                            OLS   Adj. R-squared:                  0.180\n",
       "Method:                 Least Squares   F-statistic:                     115.9\n",
       "Date:                Fri, 17 Apr 2020   Prob (F-statistic):          1.55e-132\n",
       "Time:                        12:14:26   Log-Likelihood:                -12957.\n",
       "No. Observations:                3140   AIC:                         2.593e+04\n",
       "Df Residuals:                    3133   BIC:                         2.597e+04\n",
       "Df Model:                           6                                         \n",
       "Covariance Type:            nonrobust                                         \n",
       "=================================================================================\n",
       "                    coef    std err          t      P>|t|      [0.025      0.975]\n",
       "---------------------------------------------------------------------------------\n",
       "YEAR             -0.0005      0.000     -3.107      0.002      -0.001      -0.000\n",
       "HIVprevalence     0.0348      0.001     23.753      0.000       0.032       0.038\n",
       "Med_SMAT_fac     -0.2906      0.118     -2.454      0.014      -0.523      -0.058\n",
       "num_SSPs          1.1995      0.789      1.520      0.129      -0.348       2.747\n",
       "drugdep           0.0001      0.002      0.066      0.947      -0.004       0.004\n",
       "MSM12MTH          1.4238      0.768      1.853      0.064      -0.083       2.930\n",
       "MSM5YEAR         -0.9209      0.497     -1.853      0.064      -1.896       0.054\n",
       "==============================================================================\n",
       "Omnibus:                     9120.856   Durbin-Watson:                   1.981\n",
       "Prob(Omnibus):                  0.000   Jarque-Bera (JB):        489521741.614\n",
       "Skew:                          39.105   Prob(JB):                         0.00\n",
       "Kurtosis:                    1935.731   Cond. No.                     3.11e+04\n",
       "==============================================================================\n",
       "\n",
       "Warnings:\n",
       "[1] Standard Errors assume that the covariance matrix of the errors is correctly specified.\n",
       "[2] The condition number is large, 3.11e+04. This might indicate that there are\n",
       "strong multicollinearity or other numerical problems.\n",
       "\"\"\""
      ]
     },
     "execution_count": 106,
     "metadata": {},
     "output_type": "execute_result"
    }
   ],
   "source": [
    "model.summary()"
   ]
  },
  {
   "cell_type": "code",
   "execution_count": null,
   "metadata": {},
   "outputs": [],
   "source": []
  }
 ],
 "metadata": {
  "kernelspec": {
   "display_name": "Python 3",
   "language": "python",
   "name": "python3"
  },
  "language_info": {
   "codemirror_mode": {
    "name": "ipython",
    "version": 3
   },
   "file_extension": ".py",
   "mimetype": "text/x-python",
   "name": "python",
   "nbconvert_exporter": "python",
   "pygments_lexer": "ipython3",
   "version": "3.7.4"
  }
 },
 "nbformat": 4,
 "nbformat_minor": 4
}
