{
 "cells": [
  {
   "cell_type": "code",
   "execution_count": 4,
   "metadata": {},
   "outputs": [
    {
     "name": "stderr",
     "output_type": "stream",
     "text": [
      "//anaconda3/lib/python3.7/site-packages/ipykernel_launcher.py:19: FutureWarning: The signature of `Series.to_csv` was aligned to that of `DataFrame.to_csv`, and argument 'header' will change its default value from False to True: please pass an explicit value to suppress this warning.\n"
     ]
    }
   ],
   "source": [
    "import pandas as pd\n",
    "import numpy as np\n",
    "from sklearn.model_selection import train_test_split\n",
    "\n",
    "data = pd.read_csv('main_data.csv', index_col=0)\n",
    "\n",
    "data['mme_percap'].fillna(data['mme_percap'].mean(), inplace=True)\n",
    "data['mme_percap'].fillna(data['mme_percap'].mean(), inplace=True)\n",
    "data['drugdep'].fillna(data['drugdep'].mean(), inplace=True)\n",
    "data['pctunmetneed'].fillna(data['pctunmetneed'].mean(), inplace=True)\n",
    "data['nonmedpain'].fillna(data['nonmedpain'].mean(), inplace=True)\n",
    "data = data[data['HIVincidence']>0]\n",
    "\n",
    "X = data.drop(columns='HIVincidence').values\n",
    "y = data['HIVincidence'].values\n",
    "\n",
    "X_train, X_test, y_train, y_test = train_test_split(X,y)\n",
    "\n",
    "data.columns.to_series().to_csv('column_names.csv', index=0)\n",
    "\n",
    "pd.DataFrame(X_train, columns=data.columns.drop('HIVincidence')).to_csv('x_train.csv')\n",
    "pd.DataFrame(X_test, columns=data.columns.drop('HIVincidence')).to_csv('x_test.csv')\n",
    "pd.DataFrame(y_train, columns=['HIVincidence']).to_csv('y_train.csv' )\n",
    "pd.DataFrame(y_test, columns=['HIVincidence']).to_csv('y_test.csv')\n"
   ]
  },
  {
   "cell_type": "code",
   "execution_count": 5,
   "metadata": {},
   "outputs": [
    {
     "data": {
      "text/plain": [
       "0       10.9\n",
       "1        8.7\n",
       "4       10.4\n",
       "5       90.7\n",
       "7       10.3\n",
       "8       34.6\n",
       "10      13.8\n",
       "19      15.7\n",
       "21       8.7\n",
       "22      26.8\n",
       "23      17.8\n",
       "25       8.8\n",
       "27      13.8\n",
       "34      17.3\n",
       "36      23.8\n",
       "39      25.0\n",
       "40      17.3\n",
       "41       9.1\n",
       "44      14.8\n",
       "48      23.0\n",
       "50      51.4\n",
       "51       9.0\n",
       "54      20.9\n",
       "56      12.5\n",
       "57      11.0\n",
       "58       4.0\n",
       "60       7.3\n",
       "62      21.9\n",
       "63       9.1\n",
       "69       5.3\n",
       "        ... \n",
       "2940    34.1\n",
       "2942    35.4\n",
       "2943    12.0\n",
       "2946    16.6\n",
       "2947    17.7\n",
       "2956     5.0\n",
       "2961     7.5\n",
       "2967    12.8\n",
       "2968     5.4\n",
       "2973     9.5\n",
       "2977     9.0\n",
       "2981     5.9\n",
       "2982     5.8\n",
       "2984     3.5\n",
       "2987     4.4\n",
       "2989     3.1\n",
       "2991     5.4\n",
       "2995    10.9\n",
       "3006     8.6\n",
       "3009     8.1\n",
       "3020     7.7\n",
       "3030     7.6\n",
       "3049     2.8\n",
       "3057     4.5\n",
       "3074    10.0\n",
       "3085    15.3\n",
       "3089     3.3\n",
       "3096     4.9\n",
       "3098     6.0\n",
       "3112     1.5\n",
       "Name: HIVincidence, Length: 747, dtype: float64"
      ]
     },
     "execution_count": 5,
     "metadata": {},
     "output_type": "execute_result"
    }
   ],
   "source": [
    "data['HIVincidence']"
   ]
  },
  {
   "cell_type": "code",
   "execution_count": null,
   "metadata": {},
   "outputs": [],
   "source": []
  }
 ],
 "metadata": {
  "kernelspec": {
   "display_name": "Python 3",
   "language": "python",
   "name": "python3"
  },
  "language_info": {
   "codemirror_mode": {
    "name": "ipython",
    "version": 3
   },
   "file_extension": ".py",
   "mimetype": "text/x-python",
   "name": "python",
   "nbconvert_exporter": "python",
   "pygments_lexer": "ipython3",
   "version": "3.7.3"
  }
 },
 "nbformat": 4,
 "nbformat_minor": 4
}
