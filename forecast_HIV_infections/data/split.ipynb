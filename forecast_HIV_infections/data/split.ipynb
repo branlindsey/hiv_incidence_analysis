{
 "cells": [
  {
   "cell_type": "code",
   "execution_count": 1,
   "metadata": {},
   "outputs": [
    {
     "name": "stderr",
     "output_type": "stream",
     "text": [
      "//anaconda3/lib/python3.7/site-packages/ipykernel_launcher.py:18: FutureWarning: The signature of `Series.to_csv` was aligned to that of `DataFrame.to_csv`, and argument 'header' will change its default value from False to True: please pass an explicit value to suppress this warning.\n"
     ]
    }
   ],
   "source": [
    "import pandas as pd\n",
    "import numpy as np\n",
    "from sklearn.model_selection import train_test_split\n",
    "\n",
    "data = pd.read_csv('main_data.csv', index_col=0)\n",
    "\n",
    "data['mme_percap'].fillna(data['mme_percap'].mean(), inplace=True)\n",
    "data['mme_percap'].fillna(data['mme_percap'].mean(), inplace=True)\n",
    "data['drugdep'].fillna(data['drugdep'].mean(), inplace=True)\n",
    "data['pctunmetneed'].fillna(data['pctunmetneed'].mean(), inplace=True)\n",
    "data['nonmedpain'].fillna(data['nonmedpain'].mean(), inplace=True)\n",
    "\n",
    "X = data.drop(columns='HIVincidence').values\n",
    "y = data['HIVincidence'].values\n",
    "\n",
    "X_train, X_test, y_train, y_test = train_test_split(X,y)\n",
    "\n",
    "data.columns.to_series().to_csv('column_names.csv', index=0)\n",
    "\n",
    "pd.DataFrame(X_train, columns=data.columns.drop('HIVincidence')).to_csv('x_train.csv')\n",
    "pd.DataFrame(X_test, columns=data.columns.drop('HIVincidence')).to_csv('x_test.csv')\n",
    "pd.DataFrame(y_train, columns=['HIVincidence']).to_csv('y_train.csv' )\n",
    "pd.DataFrame(y_test, columns=['HIVincidence']).to_csv('y_test.csv')\n"
   ]
  },
  {
   "cell_type": "code",
   "execution_count": null,
   "metadata": {},
   "outputs": [],
   "source": []
  }
 ],
 "metadata": {
  "kernelspec": {
   "display_name": "Python 3",
   "language": "python",
   "name": "python3"
  },
  "language_info": {
   "codemirror_mode": {
    "name": "ipython",
    "version": 3
   },
   "file_extension": ".py",
   "mimetype": "text/x-python",
   "name": "python",
   "nbconvert_exporter": "python",
   "pygments_lexer": "ipython3",
   "version": "3.7.3"
  }
 },
 "nbformat": 4,
 "nbformat_minor": 4
}
